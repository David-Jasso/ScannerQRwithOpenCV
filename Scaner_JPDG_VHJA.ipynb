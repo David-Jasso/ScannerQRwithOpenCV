{
 "cells": [
  {
   "cell_type": "markdown",
   "metadata": {},
   "source": [
    "<font size=6 style=\"color:rgb(50,120,229)\">Facultad de Ingeniería, UASLP</font>\n",
    "# <font size=6 style=\"color:rgb(50,120,229)\">Ingeniería en Mecatrónica</font>\n",
    "#  <font size=6 style=\"color:rgb(50,120,229)\">Tratamiento de Imágenes</font>\n",
    "#  <font size=6 style=\"color:rgb(50,120,229)\">Proyecto: Scanner de código QR</font>"
   ]
  },
  {
   "cell_type": "markdown",
   "metadata": {},
   "source": [
    "# <font size=5>Profesor: Ing. Pedro David Juaréz Leiva</font>  \n",
    "# <font size=5>Alumnos:</font> \n",
    "# <font size=5>Jasso Padrón David Guadalupe</font> \n",
    "# <font size=5>Vázquez Hernández Jesús Alejandro</font> "
   ]
  },
  {
   "cell_type": "markdown",
   "metadata": {},
   "source": [
    "A continuación se muestra la documentación generada para el proyecto de Scanner de código QR.\n",
    "\n",
    "En primera instancia se importan las librerias de Python a utilizar."
   ]
  },
  {
   "cell_type": "code",
   "execution_count": 1,
   "metadata": {},
   "outputs": [],
   "source": [
    "import cv2\n",
    "import numpy as np"
   ]
  },
  {
   "cell_type": "markdown",
   "metadata": {},
   "source": [
    "Posteriormente se procede a declarar las variables que se usaran para el desarrollo del programa.\n",
    "La clase que se utiliza para poder leer y detectar códigos QR es:\n",
    "```Python: \n",
    "QRCOdeDetector() \n",
    "``` \n"
   ]
  },
  {
   "cell_type": "code",
   "execution_count": 2,
   "metadata": {},
   "outputs": [],
   "source": [
    "qcd = cv2.QRCodeDetector()\n",
    "cap = cv2.VideoCapture(0)"
   ]
  },
  {
   "cell_type": "markdown",
   "metadata": {},
   "source": [
    "Mediante el siguiente bloque de código se comprueba si se realizó correctamente la conexión a la cámara, en caso de no realizarse correctamente la conexión, se imprime en consola el mensaje *\"Error al acceder a la camara\"*."
   ]
  },
  {
   "cell_type": "code",
   "execution_count": 3,
   "metadata": {},
   "outputs": [],
   "source": [
    "if not cap.isOpened():\n",
    "    print(\"Error al acceder a la camara\")\n",
    "    exit()"
   ]
  },
  {
   "cell_type": "markdown",
   "metadata": {},
   "source": [
    "Una vez comprobada la correcta conexión de la cámara, se inicia un ciclo el cual mientras no se presione la tecla 'q' mantendrá la cámara encendida. \n",
    "Con el método:"
   ]
  },
  {
   "cell_type": "markdown",
   "metadata": {},
   "source": [
    "```Python:\n",
    "qcd.detectAndDecodeMulti(frame) \n",
    "``` "
   ]
  },
  {
   "cell_type": "markdown",
   "metadata": {},
   "source": [
    "Se obtiene los siguientes parámetros de un código QR:\n",
    "\n",
    "* **`retQR`**  -> Indica si se capturó el código QR.\n",
    "* **`decode_info`** -> Captura la información del código QR.\n",
    "* **`points`** -> Nos devuelve un arreglo de las 4 esquinas del código QR."
   ]
  },
  {
   "cell_type": "code",
   "execution_count": 4,
   "metadata": {},
   "outputs": [
    {
     "ename": "",
     "evalue": "",
     "output_type": "error",
     "traceback": [
      "\u001b[1;31mThe Kernel crashed while executing code in the the current cell or a previous cell. Please review the code in the cell(s) to identify a possible cause of the failure. Click <a href='https://aka.ms/vscodeJupyterKernelCrash'>here</a> for more info. View Jupyter <a href='command:jupyter.viewOutput'>log</a> for further details."
     ]
    }
   ],
   "source": [
    "while cap.isOpened():\n",
    "    ret,frame=cap.read()\n",
    "\n",
    "    #Si se capturó un frame\n",
    "    if ret:\n",
    "        retQR, decode_info, points,straight_qrcode=qcd.detectAndDecodeMulti(frame)\n",
    "        if decode_info: #Si se tiene informacion del codigo QR\n",
    "\n",
    "            mask=np.zeros_like(frame,dtype=np.uint8) #Generamos una mascara\n",
    "            points = np.array(points, np.int32) #Pasa a enteros de 32 bits los puntos capturados de las 4 esquinas del codigo QR\n",
    "\n",
    "            cv2.fillPoly(mask,points,(255,255,255)) #Genera un poligono con los puntos obtenidos\n",
    "\n",
    "            frame=cv2.bitwise_and(frame,mask) #Se aplica la mascara al frame\n",
    "\n",
    "            for s,p in zip(decode_info,points): #Se otiene la informacion y coordenadas de las esquinas del codigo QR\n",
    "                \n",
    "                #Se agrega el texto obtenido en el frame, y se da un formato al texto\n",
    "                frame=cv2.putText(frame,s,p[0].astype(int),\n",
    "                                  cv2.FONT_HERSHEY_COMPLEX,1,(0,0,255),1,cv2.LINE_AA)\n",
    "                \n",
    "        #Se muestra la ventana.\n",
    "        cv2.imshow(\"Codigo QR\",frame)\n",
    "        \n",
    "        #Se cierra la ventana cuando se presiona q\n",
    "        if cv2.waitKey(1) & 0xFF == ord('q'):\n",
    "            break\n",
    "#Se destruyen las ventanas creadas para liberar espacio\n",
    "cv2.destroyAllWindows()"
   ]
  },
  {
   "cell_type": "markdown",
   "metadata": {},
   "source": [
    "El código con el que probaremos el funcionamiento de nuestro programa es el siguiente."
   ]
  },
  {
   "cell_type": "markdown",
   "metadata": {},
   "source": [
    "<img src=\"IngenieriaUASLP.png\" width=\"600px\">"
   ]
  },
  {
   "cell_type": "markdown",
   "metadata": {},
   "source": [
    "### Referencias\n",
    "https://note.nkmk.me/en/python-opencv-qrcode/\n",
    "#\n",
    "https://docs.opencv.org/4.1.0/index.html"
   ]
  }
 ],
 "metadata": {
  "kernelspec": {
   "display_name": "Python 3",
   "language": "python",
   "name": "python3"
  },
  "language_info": {
   "codemirror_mode": {
    "name": "ipython",
    "version": 3
   },
   "file_extension": ".py",
   "mimetype": "text/x-python",
   "name": "python",
   "nbconvert_exporter": "python",
   "pygments_lexer": "ipython3",
   "version": "3.10.10"
  },
  "orig_nbformat": 4
 },
 "nbformat": 4,
 "nbformat_minor": 2
}
